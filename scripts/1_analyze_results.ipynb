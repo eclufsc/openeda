{
 "cells": [
  {
   "cell_type": "code",
   "execution_count": 1,
   "metadata": {
    "collapsed": true
   },
   "outputs": [],
   "source": [
    "import json\n",
    "import pandas as pd"
   ]
  },
  {
   "cell_type": "code",
   "execution_count": 7,
   "metadata": {
    "collapsed": true
   },
   "outputs": [],
   "source": [
    "benchmarks_init_wl = {\"case1_report.json\": 64,\\\n",
    "                      \"case2_report.json\": 30,\n",
    "                      \"case3_report.json\": 32600,\n",
    "                      \"case4_report.json\": 4680681,\n",
    "                      \"case5_report.json\": 1763627,\n",
    "                      \"case6_report.json\": 7188481\n",
    "                     }\n",
    "benchmarks_init_via = {\"case1_report.json\": 28,\\\n",
    "                      \"case2_report.json\": 12,\n",
    "                      \"case3_report.json\": 17466,\n",
    "                      \"case4_report.json\": 2321688,\n",
    "                      \"case5_report.json\": 1076949,\n",
    "                      \"case6_report.json\": 3009612\n",
    "                     }"
   ]
  },
  {
   "cell_type": "code",
   "execution_count": 13,
   "metadata": {},
   "outputs": [],
   "source": [
    "# iccad_2020_benchmark_list = [\"case1\",\"case2\",\\\n",
    "#     \"case3\",\"case4\",\"case5\",\"case6\"]\n",
    "iccad_2020_benchmark_list = [\"case1\",\"case2\",\\\n",
    "    \"case3\",\"case4\",\"case5\"]    \n",
    "\n",
    "table_df = pd.DataFrame()\n",
    "\n",
    "\n",
    "\n",
    "with open(\"experiments.json\") as outfile: \n",
    "    experiments = json.load(outfile)\n",
    "    for experiment in experiments:\n",
    "        for benchmark in iccad_2020_benchmark_list:\n",
    "            file_name = experiment + \"/\" + benchmark + \"_report.json\"\n",
    "            with open(file_name) as report_file: \n",
    "                report = json.load(report_file)\n",
    "                \n",
    "                data_dict = {\n",
    "                    \"experiment\": experiment,\n",
    "                    \"benchamrk\":report[\"file_name_report\"],\n",
    "                    \"init_via\": benchmarks_init_via[benchmark + \"_report.json\"],\n",
    "                    \"via\": report[\"new_num_vias\"],\n",
    "                    \"init_wl\": benchmarks_init_wl[benchmark + \"_report.json\"],\n",
    "                    \"wl\": report[\"new_wire_length\"],\n",
    "                    \"total_time\" : report[\"total_time\"]\n",
    "                }\n",
    "                table_df = table_df.append(data_dict, ignore_index=True)\n",
    "\n"
   ]
  },
  {
   "cell_type": "code",
   "execution_count": 15,
   "metadata": {
    "collapsed": true
   },
   "outputs": [],
   "source": [
    "table_df[\"via_improvement\"] = (table_df.init_via - table_df.via) / table_df.init_via\n",
    "table_df[\"wl_improvement\"] = (table_df.init_wl - table_df.wl) / table_df.init_wl"
   ]
  },
  {
   "cell_type": "code",
   "execution_count": 16,
   "metadata": {},
   "outputs": [
    {
     "data": {
      "text/html": [
       "<div>\n",
       "<style>\n",
       "    .dataframe thead tr:only-child th {\n",
       "        text-align: right;\n",
       "    }\n",
       "\n",
       "    .dataframe thead th {\n",
       "        text-align: left;\n",
       "    }\n",
       "\n",
       "    .dataframe tbody tr th {\n",
       "        vertical-align: top;\n",
       "    }\n",
       "</style>\n",
       "<table border=\"1\" class=\"dataframe\">\n",
       "  <thead>\n",
       "    <tr style=\"text-align: right;\">\n",
       "      <th></th>\n",
       "      <th>benchamrk</th>\n",
       "      <th>experiment</th>\n",
       "      <th>init_via</th>\n",
       "      <th>init_wl</th>\n",
       "      <th>total_time</th>\n",
       "      <th>via</th>\n",
       "      <th>wl</th>\n",
       "      <th>via_improvement</th>\n",
       "      <th>wl_improvement</th>\n",
       "    </tr>\n",
       "  </thead>\n",
       "  <tbody>\n",
       "    <tr>\n",
       "      <th>0</th>\n",
       "      <td>case1_report.json</td>\n",
       "      <td>exp8</td>\n",
       "      <td>28.0</td>\n",
       "      <td>64.0</td>\n",
       "      <td>0.214848</td>\n",
       "      <td>14.0</td>\n",
       "      <td>35.0</td>\n",
       "      <td>0.500000</td>\n",
       "      <td>0.453125</td>\n",
       "    </tr>\n",
       "    <tr>\n",
       "      <th>1</th>\n",
       "      <td>case2_report.json</td>\n",
       "      <td>exp8</td>\n",
       "      <td>12.0</td>\n",
       "      <td>30.0</td>\n",
       "      <td>0.215986</td>\n",
       "      <td>9.0</td>\n",
       "      <td>23.0</td>\n",
       "      <td>0.250000</td>\n",
       "      <td>0.233333</td>\n",
       "    </tr>\n",
       "    <tr>\n",
       "      <th>2</th>\n",
       "      <td>case3_report.json</td>\n",
       "      <td>exp8</td>\n",
       "      <td>17466.0</td>\n",
       "      <td>32600.0</td>\n",
       "      <td>50.851696</td>\n",
       "      <td>15733.0</td>\n",
       "      <td>22317.0</td>\n",
       "      <td>0.099221</td>\n",
       "      <td>0.315429</td>\n",
       "    </tr>\n",
       "    <tr>\n",
       "      <th>3</th>\n",
       "      <td>case4_report.json</td>\n",
       "      <td>exp8</td>\n",
       "      <td>2321688.0</td>\n",
       "      <td>4680681.0</td>\n",
       "      <td>18334.830015</td>\n",
       "      <td>1467490.0</td>\n",
       "      <td>2779604.0</td>\n",
       "      <td>0.367921</td>\n",
       "      <td>0.406154</td>\n",
       "    </tr>\n",
       "    <tr>\n",
       "      <th>4</th>\n",
       "      <td>case5_report.json</td>\n",
       "      <td>exp8</td>\n",
       "      <td>1076949.0</td>\n",
       "      <td>1763627.0</td>\n",
       "      <td>6989.509171</td>\n",
       "      <td>1193794.0</td>\n",
       "      <td>1173136.0</td>\n",
       "      <td>-0.108496</td>\n",
       "      <td>0.334816</td>\n",
       "    </tr>\n",
       "  </tbody>\n",
       "</table>\n",
       "</div>"
      ],
      "text/plain": [
       "           benchamrk experiment   init_via    init_wl    total_time  \\\n",
       "0  case1_report.json       exp8       28.0       64.0      0.214848   \n",
       "1  case2_report.json       exp8       12.0       30.0      0.215986   \n",
       "2  case3_report.json       exp8    17466.0    32600.0     50.851696   \n",
       "3  case4_report.json       exp8  2321688.0  4680681.0  18334.830015   \n",
       "4  case5_report.json       exp8  1076949.0  1763627.0   6989.509171   \n",
       "\n",
       "         via         wl  via_improvement  wl_improvement  \n",
       "0       14.0       35.0         0.500000        0.453125  \n",
       "1        9.0       23.0         0.250000        0.233333  \n",
       "2    15733.0    22317.0         0.099221        0.315429  \n",
       "3  1467490.0  2779604.0         0.367921        0.406154  \n",
       "4  1193794.0  1173136.0        -0.108496        0.334816  "
      ]
     },
     "execution_count": 16,
     "metadata": {},
     "output_type": "execute_result"
    }
   ],
   "source": [
    "table_df"
   ]
  },
  {
   "cell_type": "code",
   "execution_count": 5,
   "metadata": {},
   "outputs": [
    {
     "data": {
      "text/html": [
       "<div>\n",
       "<style>\n",
       "    .dataframe thead tr:only-child th {\n",
       "        text-align: right;\n",
       "    }\n",
       "\n",
       "    .dataframe thead th {\n",
       "        text-align: left;\n",
       "    }\n",
       "\n",
       "    .dataframe tbody tr th {\n",
       "        vertical-align: top;\n",
       "    }\n",
       "</style>\n",
       "<table border=\"1\" class=\"dataframe\">\n",
       "  <thead>\n",
       "    <tr style=\"text-align: right;\">\n",
       "      <th></th>\n",
       "      <th>benchamrk</th>\n",
       "      <th>experiment</th>\n",
       "      <th>init_via</th>\n",
       "      <th>init_wl</th>\n",
       "      <th>total_time</th>\n",
       "      <th>via</th>\n",
       "      <th>wl</th>\n",
       "      <th>via_improvement</th>\n",
       "      <th>wl_improvement</th>\n",
       "    </tr>\n",
       "  </thead>\n",
       "  <tbody>\n",
       "  </tbody>\n",
       "</table>\n",
       "</div>"
      ],
      "text/plain": [
       "Empty DataFrame\n",
       "Columns: [benchamrk, experiment, init_via, init_wl, total_time, via, wl, via_improvement, wl_improvement]\n",
       "Index: []"
      ]
     },
     "execution_count": 5,
     "metadata": {},
     "output_type": "execute_result"
    }
   ],
   "source": [
    "table_df[6:]"
   ]
  },
  {
   "cell_type": "code",
   "execution_count": 6,
   "metadata": {
    "collapsed": true
   },
   "outputs": [],
   "source": [
    "table_df.to_csv(\"exp2_exp4.csv\")"
   ]
  },
  {
   "cell_type": "code",
   "execution_count": null,
   "metadata": {
    "collapsed": true
   },
   "outputs": [],
   "source": []
  },
  {
   "cell_type": "code",
   "execution_count": 11,
   "metadata": {},
   "outputs": [
    {
     "data": {
      "text/plain": [
       "21.779999999999998"
      ]
     },
     "execution_count": 11,
     "metadata": {},
     "output_type": "execute_result"
    }
   ],
   "source": [
    "35.71-15.34+19.02-44.92+27.31\n"
   ]
  },
  {
   "cell_type": "code",
   "execution_count": 12,
   "metadata": {},
   "outputs": [
    {
     "data": {
      "text/plain": [
       "3.6300000000000003"
      ]
     },
     "execution_count": 12,
     "metadata": {},
     "output_type": "execute_result"
    }
   ],
   "source": [
    "21.78/6"
   ]
  },
  {
   "cell_type": "code",
   "execution_count": 14,
   "metadata": {},
   "outputs": [
    {
     "data": {
      "text/plain": [
       "142.29999999999998"
      ]
     },
     "execution_count": 14,
     "metadata": {},
     "output_type": "execute_result"
    }
   ],
   "source": [
    "35.71+15.34+19.02+44.92+27.31"
   ]
  },
  {
   "cell_type": "code",
   "execution_count": 16,
   "metadata": {},
   "outputs": [
    {
     "data": {
      "text/plain": [
       "115.11000000000001"
      ]
     },
     "execution_count": 16,
     "metadata": {},
     "output_type": "execute_result"
    }
   ],
   "source": [
    "26.56+19.72+20.45+21.06+27.32"
   ]
  },
  {
   "cell_type": "code",
   "execution_count": 18,
   "metadata": {},
   "outputs": [
    {
     "data": {
      "text/plain": [
       "19.185"
      ]
     },
     "execution_count": 18,
     "metadata": {},
     "output_type": "execute_result"
    }
   ],
   "source": [
    "115.11/6"
   ]
  },
  {
   "cell_type": "code",
   "execution_count": 19,
   "metadata": {},
   "outputs": [
    {
     "data": {
      "text/plain": [
       "126.63"
      ]
     },
     "execution_count": 19,
     "metadata": {},
     "output_type": "execute_result"
    }
   ],
   "source": [
    "32.14+0+12.21+34.46+47.83-0.01"
   ]
  },
  {
   "cell_type": "code",
   "execution_count": 21,
   "metadata": {},
   "outputs": [
    {
     "data": {
      "text/plain": [
       "21.105"
      ]
     },
     "execution_count": 21,
     "metadata": {},
     "output_type": "execute_result"
    }
   ],
   "source": [
    "126.63/6"
   ]
  },
  {
   "cell_type": "code",
   "execution_count": 22,
   "metadata": {},
   "outputs": [
    {
     "data": {
      "text/plain": [
       "198.49"
      ]
     },
     "execution_count": 22,
     "metadata": {},
     "output_type": "execute_result"
    }
   ],
   "source": [
    "45.31+23.33+29.19+39.13+29.05+32.48"
   ]
  },
  {
   "cell_type": "code",
   "execution_count": 23,
   "metadata": {},
   "outputs": [
    {
     "data": {
      "text/plain": [
       "33.08166666666667"
      ]
     },
     "execution_count": 23,
     "metadata": {},
     "output_type": "execute_result"
    }
   ],
   "source": [
    "198.49/6"
   ]
  },
  {
   "cell_type": "code",
   "execution_count": 24,
   "metadata": {},
   "outputs": [
    {
     "data": {
      "text/plain": [
       "183.75"
      ]
     },
     "execution_count": 24,
     "metadata": {},
     "output_type": "execute_result"
    }
   ],
   "source": [
    "50+25+14.39+39.54-0.01+54.83"
   ]
  },
  {
   "cell_type": "code",
   "execution_count": 25,
   "metadata": {},
   "outputs": [
    {
     "data": {
      "text/plain": [
       "30.625"
      ]
     },
     "execution_count": 25,
     "metadata": {},
     "output_type": "execute_result"
    }
   ],
   "source": [
    "183.75/6\n"
   ]
  },
  {
   "cell_type": "code",
   "execution_count": null,
   "metadata": {
    "collapsed": true
   },
   "outputs": [],
   "source": []
  }
 ],
 "metadata": {
  "kernelspec": {
   "display_name": "my_env_opt",
   "language": "python",
   "name": "my_env_opt"
  },
  "language_info": {
   "codemirror_mode": {
    "name": "ipython",
    "version": 3
   },
   "file_extension": ".py",
   "mimetype": "text/x-python",
   "name": "python",
   "nbconvert_exporter": "python",
   "pygments_lexer": "ipython3",
   "version": "3.6.10"
  }
 },
 "nbformat": 4,
 "nbformat_minor": 2
}
